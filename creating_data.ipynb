{
 "cells": [
  {
   "cell_type": "code",
   "execution_count": 8,
   "id": "ff41d756-f524-4912-9aa8-d3ea76b5c33d",
   "metadata": {
    "collapsed": true
   },
   "outputs": [
    {
     "data": {
      "text/plain": [
       "{'id': 'ASxoirwS1mKe8PylW4RP2MGGhiGc2z1t1CGItx6-2ToQDZk',\n",
       " 'accountId': 'huZrSbIczSmA-iDIyAmKeTCWqHZj8jY8bZVGvAjFDAwJQg',\n",
       " 'puuid': 'Tp7YHL2yMmQ5FJRxg5UH70rJaxpXQsbMA8023TfUkggNpTWEAluRzD179iBc8cZSo8ojrj9dPEDNhg',\n",
       " 'name': 'Mindful Player',\n",
       " 'profileIconId': 3859,\n",
       " 'revisionDate': 1633026989000,\n",
       " 'summonerLevel': 336}"
      ]
     },
     "execution_count": 8,
     "metadata": {},
     "output_type": "execute_result"
    }
   ],
   "source": [
    "import requests\n",
    "from icecream import ic\n",
    "from itertools import chain\n",
    "import numpy as np\n",
    "import pandas as pd\n",
    "from tqdm import tqdm\n",
    "from time import sleep\n",
    "import time\n",
    "import csv\n",
    "import json\n",
    "\n",
    "#getting the configurations from the config file\n",
    "with open('working_config.json', 'r') as f:\n",
    "    config = json.load(f)\n",
    "api_key = config[\"api_key\"]\n",
    "\n",
    "response = requests.get(\"https://euw1.api.riotgames.com/lol/summoner/v4/summoners/by-name/MindfulPlayer?api_key=\"+api_key)\n",
    "response.json()"
   ]
  },
  {
   "cell_type": "code",
   "execution_count": 9,
   "id": "445cd879-d52d-49f1-b24f-221946a25c66",
   "metadata": {},
   "outputs": [
    {
     "data": {
      "text/plain": [
       "'11.19.1'"
      ]
     },
     "execution_count": 9,
     "metadata": {},
     "output_type": "execute_result"
    }
   ],
   "source": [
    "response = requests.get(\"https://ddragon.leagueoflegends.com/api/versions.json\")\n",
    "current_patch = response.json()[0]\n",
    "current_patch"
   ]
  },
  {
   "cell_type": "code",
   "execution_count": 10,
   "id": "b3188465-24d0-4efd-bec5-4ee3f7d57b0b",
   "metadata": {},
   "outputs": [],
   "source": [
    "number_matches = \"50\""
   ]
  },
  {
   "cell_type": "markdown",
   "id": "1ab06773-bae7-4593-ada1-475f3c57f9ca",
   "metadata": {},
   "source": [
    "# get all eu challengers and challenger games"
   ]
  },
  {
   "cell_type": "code",
   "execution_count": 11,
   "id": "0671a69c-e2bc-462c-a2f2-207371cabb2f",
   "metadata": {
    "scrolled": true,
    "tags": []
   },
   "outputs": [],
   "source": [
    "challengers = requests.get(\"https://euw1.api.riotgames.com/lol/league/v4/challengerleagues/by-queue/RANKED_SOLO_5x5?api_key=\"+api_key)\n",
    "challengers = challengers.json()"
   ]
  },
  {
   "cell_type": "code",
   "execution_count": null,
   "id": "ce7295c5-46a9-4c75-8897-2db12f59fc5b",
   "metadata": {},
   "outputs": [
    {
     "name": "stderr",
     "output_type": "stream",
     "text": [
      "  1%|▏         | 4/300 [00:09<11:42,  2.37s/it]"
     ]
    }
   ],
   "source": [
    "all_matches = []\n",
    "\n",
    "with tqdm(total = len(challengers[\"entries\"])) as pbar:\n",
    "    for challenger in challengers[\"entries\"]:\n",
    "        #ic(challenger)\n",
    "        account = requests.get(\"https://euw1.api.riotgames.com/lol/summoner/v4/summoners/by-name/\"+challenger[\"summonerName\"]+\"?api_key=\"+api_key).json()\n",
    "        #ic(account)\n",
    "        #ranked summoners rift id = 420\n",
    "        try:\n",
    "            matches = requests.get(\"https://europe.api.riotgames.com/lol/match/v5/matches/by-puuid/\"+account[\"puuid\"]+\"/ids?queue=420&start=0&count=\"+number_matches+\"&api_key=\"+api_key).json()\n",
    "        except:\n",
    "            pass\n",
    "        all_matches.append(matches)\n",
    "        time.sleep(-time.time()%2.41)\n",
    "        pbar.update(1)\n",
    "        "
   ]
  },
  {
   "cell_type": "code",
   "execution_count": null,
   "id": "e1430b33-f426-422b-83a0-df56540e810c",
   "metadata": {},
   "outputs": [],
   "source": [
    "#unnesting the list and removing duplicates:\n",
    "\n",
    "all_matches = list(chain.from_iterable(all_matches))\n",
    "final_matches = set(all_matches)\n",
    "len(final_matches)"
   ]
  },
  {
   "cell_type": "code",
   "execution_count": null,
   "id": "bac74f98-490e-4505-b8c1-7baf4319d356",
   "metadata": {},
   "outputs": [],
   "source": [
    "with open('data/challenger_eu_matches.csv', 'w') as f:\n",
    "    write = csv.writer(f) \n",
    "    write.writerow(final_matches)"
   ]
  },
  {
   "cell_type": "code",
   "execution_count": null,
   "id": "d6985e25-7ccb-4a41-a8d7-e25d91b09820",
   "metadata": {},
   "outputs": [],
   "source": [
    "#next up i will read the match data and "
   ]
  },
  {
   "cell_type": "code",
   "execution_count": 9,
   "id": "ba2b0da5-2256-4e22-bdb9-f347e7330a70",
   "metadata": {},
   "outputs": [
    {
     "data": {
      "text/plain": [
       "5645"
      ]
     },
     "execution_count": 9,
     "metadata": {},
     "output_type": "execute_result"
    }
   ],
   "source": [
    "read_matches = []\n",
    "with open('data/challenger_eu_matches.csv', 'r') as f:\n",
    "    csv_reader = csv.reader(f, delimiter=',')\n",
    "    for row in csv_reader:\n",
    "        read_matches.append(row)\n",
    "matches = read_matches[0]\n",
    "len(matches)"
   ]
  },
  {
   "cell_type": "code",
   "execution_count": 10,
   "id": "795ede00-d3c8-4f55-9f9c-ce8cd6d5d7c6",
   "metadata": {},
   "outputs": [
    {
     "name": "stderr",
     "output_type": "stream",
     "text": [
      "100%|█████████▉| 5642/5645 [1:53:53<00:03,  1.21s/it]\n"
     ]
    }
   ],
   "source": [
    "dataset = []\n",
    "with tqdm(total = len(matches)) as pbar:\n",
    "    for match in matches:\n",
    "        match_data = requests.get(\"https://europe.api.riotgames.com/lol/match/v5/matches/\"+match+\"?api_key=\"+api_key).json()\n",
    "        try:\n",
    "            if match_data[\"info\"][\"gameVersion\"][:5] == current_patch[:5]:\n",
    "                champs = []\n",
    "                for player in range(10):\n",
    "                    champs.append(match_data[\"info\"][\"participants\"][player][\"championId\"])\n",
    "                champs.append(int(match_data[\"info\"][\"participants\"][0][\"win\"]))\n",
    "                dataset.append(champs)\n",
    "                #sleep(1.2)\n",
    "                time.sleep(-time.time()%1.21)\n",
    "                pbar.update(1)\n",
    "            else:\n",
    "                time.sleep(-time.time()%1.21)\n",
    "                pbar.update(1)\n",
    "        except:\n",
    "            time.sleep(-time.time()%1.21)\n",
    "            pbar.update(1)"
   ]
  },
  {
   "cell_type": "code",
   "execution_count": 11,
   "id": "f8751757-8997-43ec-826c-93e45b5fe053",
   "metadata": {},
   "outputs": [
    {
     "data": {
      "text/plain": [
       "[[24, 102, 245, 166, 89, 80, 120, 777, 145, 201, 0],\n",
       " [75, 234, 45, 18, 12, 131, 39, 91, 429, 78, 1],\n",
       " [2, 59, 147, 67, 412, 114, 234, 13, 10, 555, 1],\n",
       " [58, 203, 134, 235, 223, 79, 234, 142, 429, 111, 1],\n",
       " [85, 238, 2, 115, 111, 31, 79, 157, 222, 89, 1]]"
      ]
     },
     "execution_count": 11,
     "metadata": {},
     "output_type": "execute_result"
    }
   ],
   "source": [
    "dataset[:5]"
   ]
  },
  {
   "cell_type": "code",
   "execution_count": 12,
   "id": "86cbdefe-58c7-4d7d-87b1-2346ba404450",
   "metadata": {},
   "outputs": [],
   "source": [
    "with open('data/challenger_eu_data.csv', 'w') as f:\n",
    "    write = csv.writer(f) \n",
    "    write.writerow(dataset)"
   ]
  },
  {
   "cell_type": "code",
   "execution_count": 13,
   "id": "ea66f142-fba7-438d-9b9d-c83cf36f353f",
   "metadata": {},
   "outputs": [],
   "source": [
    "#a = np.array(dataset)\n",
    "np.savetxt(\"data/challenger_eu_data.csv\", dataset, delimiter=\", \")"
   ]
  },
  {
   "cell_type": "markdown",
   "id": "c80141f5-a7dd-42e9-990f-9e9c96f68cd3",
   "metadata": {},
   "source": [
    "# get challengers in korea"
   ]
  },
  {
   "cell_type": "code",
   "execution_count": 14,
   "id": "4b87569a-c6ff-489c-b673-64af95262550",
   "metadata": {},
   "outputs": [
    {
     "data": {
      "text/plain": [
       "'CHALLENGER'"
      ]
     },
     "execution_count": 14,
     "metadata": {},
     "output_type": "execute_result"
    }
   ],
   "source": [
    "challengers = requests.get(\"https://kr.api.riotgames.com/lol/league/v4/challengerleagues/by-queue/RANKED_SOLO_5x5?api_key=\"+api_key)\n",
    "challengers = challengers.json()\n",
    "challengers[\"tier\"]"
   ]
  },
  {
   "cell_type": "code",
   "execution_count": 15,
   "id": "91716502-06db-4786-aec7-49bbde9ea17d",
   "metadata": {},
   "outputs": [
    {
     "name": "stderr",
     "output_type": "stream",
     "text": [
      "100%|██████████| 300/300 [22:38<00:00,  4.53s/it]\n"
     ]
    }
   ],
   "source": [
    "all_matches = []\n",
    "\n",
    "with tqdm(total = len(challengers[\"entries\"])) as pbar:\n",
    "    for challenger in challengers[\"entries\"]:\n",
    "        #ic(challenger)\n",
    "        account = requests.get(\"https://kr.api.riotgames.com/lol/summoner/v4/summoners/by-name/\"+challenger[\"summonerName\"]+\"?api_key=\"+api_key).json()\n",
    "        #ic(account[\"puuid\"])\n",
    "        #ranked summoners rift id = 420\n",
    "        try:\n",
    "            matches = requests.get(\"https://asia.api.riotgames.com/lol/match/v5/matches/by-puuid/\"+account[\"puuid\"]+\"/ids?queue=420&start=0&count=\"+number_matches+\"&api_key=\"+api_key).json()\n",
    "            #all_matches.append(matches)\n",
    "        except:\n",
    "            pass\n",
    "        all_matches.append(matches)\n",
    "        time.sleep(-time.time()%2.41)\n",
    "        pbar.update(1)\n",
    "        "
   ]
  },
  {
   "cell_type": "code",
   "execution_count": 16,
   "id": "bae3da73-6453-4c70-8341-150f9308cf8d",
   "metadata": {},
   "outputs": [
    {
     "data": {
      "text/plain": [
       "5446"
      ]
     },
     "execution_count": 16,
     "metadata": {},
     "output_type": "execute_result"
    }
   ],
   "source": [
    "#unnesting the list and removing duplicates:\n",
    "\n",
    "all_matches = list(chain.from_iterable(all_matches))\n",
    "final_matches = set(all_matches)\n",
    "len(final_matches)"
   ]
  },
  {
   "cell_type": "code",
   "execution_count": 17,
   "id": "4d086b9e-7baf-4be0-b46a-d91b34766249",
   "metadata": {},
   "outputs": [],
   "source": [
    "with open('data/challenger_kr_matches.csv', 'w') as f:\n",
    "    write = csv.writer(f) \n",
    "    write.writerow(final_matches)"
   ]
  },
  {
   "cell_type": "code",
   "execution_count": 18,
   "id": "0f491c40-7e16-4aac-8a32-fd61ac55359f",
   "metadata": {},
   "outputs": [
    {
     "data": {
      "text/plain": [
       "5446"
      ]
     },
     "execution_count": 18,
     "metadata": {},
     "output_type": "execute_result"
    }
   ],
   "source": [
    "#reading the match data and looking at the matches\n",
    "read_matches = []\n",
    "with open('data/challenger_kr_matches.csv', 'r') as f:\n",
    "    csv_reader = csv.reader(f, delimiter=',')\n",
    "    for row in csv_reader:\n",
    "        read_matches.append(row)\n",
    "matches = read_matches[0]\n",
    "len(matches)"
   ]
  },
  {
   "cell_type": "raw",
   "id": "41c0a5f0-d480-44ea-996b-7c74fbb5fece",
   "metadata": {},
   "source": [
    "dataset = []\n",
    "passed = 0\n",
    "with tqdm(total = len(matches)) as pbar:\n",
    "    for match in matches:\n",
    "        match_data = requests.get(\"https://asia.api.riotgames.com/lol/match/v5/matches/\"+match+\"?api_key=\"+api_key).json()\n",
    "        try:\n",
    "            champs = []\n",
    "            for player in range(10):\n",
    "                champs.append(match_data[\"info\"][\"participants\"][player][\"championId\"])\n",
    "            champs.append(int(match_data[\"info\"][\"participants\"][0][\"win\"]))\n",
    "            dataset.append(champs)\n",
    "        except:\n",
    "            passed += 1\n",
    "        #sleep(1.2)\n",
    "        time.sleep(-time.time()%1.21)\n",
    "        pbar.update(1)\n",
    "ic(passed)"
   ]
  },
  {
   "cell_type": "code",
   "execution_count": 19,
   "id": "70fce3cc-e65a-42d6-bc65-d92ac46741f3",
   "metadata": {},
   "outputs": [
    {
     "name": "stderr",
     "output_type": "stream",
     "text": [
      "100%|█████████▉| 5435/5446 [3:13:10<00:23,  2.13s/it]  \n"
     ]
    }
   ],
   "source": [
    "dataset = []\n",
    "with tqdm(total = len(matches)) as pbar:\n",
    "    for match in matches:\n",
    "        match_data = requests.get(\"https://asia.api.riotgames.com/lol/match/v5/matches/\"+match+\"?api_key=\"+api_key).json()\n",
    "        try:\n",
    "            if match_data[\"info\"][\"gameVersion\"][:5] == current_patch[:5]:\n",
    "                champs = []\n",
    "                for player in range(10):\n",
    "                    champs.append(match_data[\"info\"][\"participants\"][player][\"championId\"])\n",
    "                champs.append(int(match_data[\"info\"][\"participants\"][0][\"win\"]))\n",
    "                dataset.append(champs)\n",
    "                #sleep(1.2)\n",
    "                time.sleep(-time.time()%1.21)\n",
    "                pbar.update(1)\n",
    "            else:\n",
    "                time.sleep(-time.time()%1.21)\n",
    "                pbar.update(1)\n",
    "        except:\n",
    "            time.sleep(-time.time()%1.21)\n",
    "            pbar.update(1)"
   ]
  },
  {
   "cell_type": "code",
   "execution_count": 20,
   "id": "4d6c5c05-1043-41a8-98fe-702f133fde35",
   "metadata": {},
   "outputs": [
    {
     "data": {
      "text/plain": [
       "[[41, 76, 238, 523, 412, 126, 78, 103, 145, 497, 0],\n",
       " [24, 131, 64, 523, 350, 150, 234, 69, 119, 89, 0],\n",
       " [126, 234, 68, 145, 497, 875, 64, 517, 81, 12, 0],\n",
       " [24, 876, 58, 22, 223, 164, 64, 3, 110, 526, 0],\n",
       " [154, 68, 236, 523, 412, 164, 234, 142, 115, 223, 0]]"
      ]
     },
     "execution_count": 20,
     "metadata": {},
     "output_type": "execute_result"
    }
   ],
   "source": [
    "dataset[:5]"
   ]
  },
  {
   "cell_type": "code",
   "execution_count": 21,
   "id": "dbdfb523-b0e7-49ae-b8a2-8772490e74cd",
   "metadata": {},
   "outputs": [
    {
     "data": {
      "text/plain": [
       "2507"
      ]
     },
     "execution_count": 21,
     "metadata": {},
     "output_type": "execute_result"
    }
   ],
   "source": [
    "len(dataset)"
   ]
  },
  {
   "cell_type": "raw",
   "id": "be731c28-2389-448f-b3f0-915b764da5a8",
   "metadata": {},
   "source": [
    "with open('data/challenger_kr_data.csv', 'w') as f:\n",
    "    write = csv.writer(f) \n",
    "    write.writerow(dataset)"
   ]
  },
  {
   "cell_type": "code",
   "execution_count": 22,
   "id": "13d8c7c2-7cf9-47b4-9f18-58304812dbcd",
   "metadata": {},
   "outputs": [],
   "source": [
    "np.savetxt(\"data/challenger_kr_data.csv\", dataset, delimiter=\", \")"
   ]
  },
  {
   "cell_type": "markdown",
   "id": "1db80a3f-5a64-4acf-a323-dcf2c184d659",
   "metadata": {},
   "source": [
    "# get all eu grandmasters and grandmaster games"
   ]
  },
  {
   "cell_type": "code",
   "execution_count": 23,
   "id": "c94bd3fb-3503-4df9-af1f-f037c7547425",
   "metadata": {},
   "outputs": [
    {
     "name": "stderr",
     "output_type": "stream",
     "text": [
      "100%|██████████| 700/700 [28:05<00:00,  2.41s/it]\n"
     ]
    }
   ],
   "source": [
    "gms = requests.get(\"https://euw1.api.riotgames.com/lol/league/v4/grandmasterleagues/by-queue/RANKED_SOLO_5x5?api_key=\"+api_key)\n",
    "gms = gms.json()\n",
    "all_matches = []\n",
    "\n",
    "with tqdm(total = len(gms[\"entries\"])) as pbar:\n",
    "    for gm in gms[\"entries\"]:\n",
    "        #ic(challenger)\n",
    "        account = requests.get(\"https://euw1.api.riotgames.com/lol/summoner/v4/summoners/by-name/\"+gm[\"summonerName\"]+\"?api_key=\"+api_key).json()\n",
    "        #ic(account)\n",
    "        #ranked summoners rift id = 420\n",
    "        try:\n",
    "            matches = requests.get(\"https://europe.api.riotgames.com/lol/match/v5/matches/by-puuid/\"+gm[\"puuid\"]+\"/ids?queue=420&start=0&count=\"+number_matches+\"&api_key=\"+api_key).json()\n",
    "        except:\n",
    "            pass\n",
    "        all_matches.append(matches)\n",
    "        time.sleep(-time.time()%2.41)\n",
    "        pbar.update(1)\n",
    "        \n",
    "        \n",
    "#unnesting the list and removing duplicates:\n",
    "\n",
    "all_matches = list(chain.from_iterable(all_matches))\n",
    "final_matches = set(all_matches)\n",
    "len(final_matches)\n",
    "with open('data/grandmaster_eu_matches.csv', 'w') as f:\n",
    "    write = csv.writer(f) \n",
    "    write.writerow(final_matches)"
   ]
  },
  {
   "cell_type": "code",
   "execution_count": 4,
   "id": "467803aa-9054-4645-bdea-72d6fb45c22c",
   "metadata": {},
   "outputs": [
    {
     "data": {
      "text/plain": [
       "5446"
      ]
     },
     "execution_count": 4,
     "metadata": {},
     "output_type": "execute_result"
    }
   ],
   "source": [
    "read_matches = []\n",
    "with open('data/grandmaster_eu_matches.csv', 'r') as f:\n",
    "    csv_reader = csv.reader(f, delimiter=',')\n",
    "    for row in csv_reader:\n",
    "        read_matches.append(row)\n",
    "matches = read_matches[0]\n",
    "len(matches)"
   ]
  },
  {
   "cell_type": "code",
   "execution_count": 5,
   "id": "5e033b77-c575-4eb0-a98e-72d1c92ee867",
   "metadata": {},
   "outputs": [
    {
     "name": "stderr",
     "output_type": "stream",
     "text": [
      "100%|██████████| 5446/5446 [1:49:50<00:00,  1.21s/it]\n"
     ]
    }
   ],
   "source": [
    "dataset = []\n",
    "with tqdm(total = len(matches)) as pbar:\n",
    "    for match in matches:\n",
    "        try:\n",
    "            match_data = requests.get(\"https://europe.api.riotgames.com/lol/match/v5/matches/\"+match+\"?api_key=\"+api_key).json()\n",
    "            if match_data[\"info\"][\"gameVersion\"][:5] == current_patch[:5]:\n",
    "                champs = []\n",
    "                for player in range(10):\n",
    "                    champs.append(match_data[\"info\"][\"participants\"][player][\"championId\"])\n",
    "                champs.append(int(match_data[\"info\"][\"participants\"][0][\"win\"]))\n",
    "                dataset.append(champs)\n",
    "                #sleep(1.2)\n",
    "                time.sleep(-time.time()%1.21)\n",
    "                pbar.update(1)\n",
    "            else:\n",
    "                time.sleep(-time.time()%1.21)\n",
    "                pbar.update(1)\n",
    "        except:\n",
    "            time.sleep(-time.time()%1.21)\n",
    "            pbar.update(1)\n",
    "            \n",
    "np.savetxt(\"data/grandmaster_eu_data.csv\", dataset, delimiter=\", \")"
   ]
  },
  {
   "cell_type": "code",
   "execution_count": 11,
   "id": "4fa08a80-7fef-49db-9ceb-e792fac9ce01",
   "metadata": {},
   "outputs": [],
   "source": [
    "with open('data/grandmaster_eu_data.csv', 'w') as f:\n",
    "    write = csv.writer(f) \n",
    "    write.writerow(dataset)"
   ]
  },
  {
   "cell_type": "code",
   "execution_count": 12,
   "id": "8a2204a5-b9a9-4f31-b88b-906d61723b3e",
   "metadata": {},
   "outputs": [],
   "source": [
    "np.savetxt(\"data/grandmaster_eu_data.csv\", dataset, delimiter=\", \")"
   ]
  },
  {
   "cell_type": "markdown",
   "id": "83d32487-bf58-4561-8a7e-7e7c711fd504",
   "metadata": {},
   "source": [
    "# getting all grandmaster matches in korea"
   ]
  },
  {
   "cell_type": "code",
   "execution_count": 6,
   "id": "bf8e1c92-b58a-460d-86de-9c96e85f0512",
   "metadata": {},
   "outputs": [
    {
     "name": "stderr",
     "output_type": "stream",
     "text": [
      "100%|██████████| 700/700 [28:14<00:00,  2.42s/it]\n"
     ]
    }
   ],
   "source": [
    "gms = requests.get(\"https://kr.api.riotgames.com/lol/league/v4/grandmasterleagues/by-queue/RANKED_SOLO_5x5?api_key=\"+api_key)\n",
    "gms = gms.json()\n",
    "all_matches = []\n",
    "\n",
    "with tqdm(total = len(gms[\"entries\"])) as pbar:\n",
    "    for gm in gms[\"entries\"]:\n",
    "        #ic(challenger)\n",
    "        account = requests.get(\"https://kr.api.riotgames.com/lol/summoner/v4/summoners/by-name/\"+gm[\"summonerName\"]+\"?api_key=\"+api_key).json()\n",
    "        #ic(account)\n",
    "        #ranked summoners rift id = 420\n",
    "        try:\n",
    "            matches = requests.get(\"https://asia.api.riotgames.com/lol/match/v5/matches/by-puuid/\"+gm[\"puuid\"]+\"/ids?queue=420&start=0&count=\"+number_matches+\"&api_key=\"+api_key).json()\n",
    "        except:\n",
    "            pass\n",
    "        all_matches.append(matches)\n",
    "        time.sleep(-time.time()%2.41)\n",
    "        pbar.update(1)\n",
    "        \n",
    "#unnesting the list and removing duplicates:\n",
    "\n",
    "all_matches = list(chain.from_iterable(all_matches))\n",
    "final_matches = set(all_matches)\n",
    "len(final_matches)\n",
    "with open('data/grandmaster_kr_matches.csv', 'w') as f:\n",
    "    write = csv.writer(f) \n",
    "    write.writerow(final_matches)"
   ]
  },
  {
   "cell_type": "code",
   "execution_count": 7,
   "id": "93932ff4-62e0-4481-81ef-18012f3feff0",
   "metadata": {},
   "outputs": [
    {
     "data": {
      "text/plain": [
       "5446"
      ]
     },
     "execution_count": 7,
     "metadata": {},
     "output_type": "execute_result"
    }
   ],
   "source": [
    "read_matches = []\n",
    "with open('data/grandmaster_kr_matches.csv', 'r') as f:\n",
    "    csv_reader = csv.reader(f, delimiter=',')\n",
    "    for row in csv_reader:\n",
    "        read_matches.append(row)\n",
    "matches = read_matches[0]\n",
    "len(matches)"
   ]
  },
  {
   "cell_type": "code",
   "execution_count": 8,
   "id": "f7a7d8b4-61e6-479e-8489-6866cebb3daf",
   "metadata": {},
   "outputs": [
    {
     "name": "stderr",
     "output_type": "stream",
     "text": [
      " 18%|█▊        | 973/5446 [34:26<2:38:20,  2.12s/it]\n"
     ]
    },
    {
     "ename": "KeyboardInterrupt",
     "evalue": "",
     "output_type": "error",
     "traceback": [
      "\u001b[1;31m---------------------------------------------------------------------------\u001b[0m",
      "\u001b[1;31mKeyboardInterrupt\u001b[0m                         Traceback (most recent call last)",
      "\u001b[1;32m<ipython-input-8-c672d54f0a17>\u001b[0m in \u001b[0;36m<module>\u001b[1;34m\u001b[0m\n\u001b[0;32m      2\u001b[0m \u001b[1;32mwith\u001b[0m \u001b[0mtqdm\u001b[0m\u001b[1;33m(\u001b[0m\u001b[0mtotal\u001b[0m \u001b[1;33m=\u001b[0m \u001b[0mlen\u001b[0m\u001b[1;33m(\u001b[0m\u001b[0mmatches\u001b[0m\u001b[1;33m)\u001b[0m\u001b[1;33m)\u001b[0m \u001b[1;32mas\u001b[0m \u001b[0mpbar\u001b[0m\u001b[1;33m:\u001b[0m\u001b[1;33m\u001b[0m\u001b[1;33m\u001b[0m\u001b[0m\n\u001b[0;32m      3\u001b[0m     \u001b[1;32mfor\u001b[0m \u001b[0mmatch\u001b[0m \u001b[1;32min\u001b[0m \u001b[0mmatches\u001b[0m\u001b[1;33m:\u001b[0m\u001b[1;33m\u001b[0m\u001b[1;33m\u001b[0m\u001b[0m\n\u001b[1;32m----> 4\u001b[1;33m         \u001b[0mmatch_data\u001b[0m \u001b[1;33m=\u001b[0m \u001b[0mrequests\u001b[0m\u001b[1;33m.\u001b[0m\u001b[0mget\u001b[0m\u001b[1;33m(\u001b[0m\u001b[1;34m\"https://asia.api.riotgames.com/lol/match/v5/matches/\"\u001b[0m\u001b[1;33m+\u001b[0m\u001b[0mmatch\u001b[0m\u001b[1;33m+\u001b[0m\u001b[1;34m\"?api_key=\"\u001b[0m\u001b[1;33m+\u001b[0m\u001b[0mapi_key\u001b[0m\u001b[1;33m)\u001b[0m\u001b[1;33m.\u001b[0m\u001b[0mjson\u001b[0m\u001b[1;33m(\u001b[0m\u001b[1;33m)\u001b[0m\u001b[1;33m\u001b[0m\u001b[1;33m\u001b[0m\u001b[0m\n\u001b[0m\u001b[0;32m      5\u001b[0m         \u001b[1;32mtry\u001b[0m\u001b[1;33m:\u001b[0m\u001b[1;33m\u001b[0m\u001b[1;33m\u001b[0m\u001b[0m\n\u001b[0;32m      6\u001b[0m             \u001b[1;32mif\u001b[0m \u001b[0mmatch_data\u001b[0m\u001b[1;33m[\u001b[0m\u001b[1;34m\"info\"\u001b[0m\u001b[1;33m]\u001b[0m\u001b[1;33m[\u001b[0m\u001b[1;34m\"gameVersion\"\u001b[0m\u001b[1;33m]\u001b[0m\u001b[1;33m[\u001b[0m\u001b[1;33m:\u001b[0m\u001b[1;36m5\u001b[0m\u001b[1;33m]\u001b[0m \u001b[1;33m==\u001b[0m \u001b[0mcurrent_patch\u001b[0m\u001b[1;33m[\u001b[0m\u001b[1;33m:\u001b[0m\u001b[1;36m5\u001b[0m\u001b[1;33m]\u001b[0m\u001b[1;33m:\u001b[0m\u001b[1;33m\u001b[0m\u001b[1;33m\u001b[0m\u001b[0m\n",
      "\u001b[1;32m~\\.conda\\envs\\riot\\lib\\site-packages\\requests\\api.py\u001b[0m in \u001b[0;36mget\u001b[1;34m(url, params, **kwargs)\u001b[0m\n\u001b[0;32m     74\u001b[0m \u001b[1;33m\u001b[0m\u001b[0m\n\u001b[0;32m     75\u001b[0m     \u001b[0mkwargs\u001b[0m\u001b[1;33m.\u001b[0m\u001b[0msetdefault\u001b[0m\u001b[1;33m(\u001b[0m\u001b[1;34m'allow_redirects'\u001b[0m\u001b[1;33m,\u001b[0m \u001b[1;32mTrue\u001b[0m\u001b[1;33m)\u001b[0m\u001b[1;33m\u001b[0m\u001b[1;33m\u001b[0m\u001b[0m\n\u001b[1;32m---> 76\u001b[1;33m     \u001b[1;32mreturn\u001b[0m \u001b[0mrequest\u001b[0m\u001b[1;33m(\u001b[0m\u001b[1;34m'get'\u001b[0m\u001b[1;33m,\u001b[0m \u001b[0murl\u001b[0m\u001b[1;33m,\u001b[0m \u001b[0mparams\u001b[0m\u001b[1;33m=\u001b[0m\u001b[0mparams\u001b[0m\u001b[1;33m,\u001b[0m \u001b[1;33m**\u001b[0m\u001b[0mkwargs\u001b[0m\u001b[1;33m)\u001b[0m\u001b[1;33m\u001b[0m\u001b[1;33m\u001b[0m\u001b[0m\n\u001b[0m\u001b[0;32m     77\u001b[0m \u001b[1;33m\u001b[0m\u001b[0m\n\u001b[0;32m     78\u001b[0m \u001b[1;33m\u001b[0m\u001b[0m\n",
      "\u001b[1;32m~\\.conda\\envs\\riot\\lib\\site-packages\\requests\\api.py\u001b[0m in \u001b[0;36mrequest\u001b[1;34m(method, url, **kwargs)\u001b[0m\n\u001b[0;32m     59\u001b[0m     \u001b[1;31m# cases, and look like a memory leak in others.\u001b[0m\u001b[1;33m\u001b[0m\u001b[1;33m\u001b[0m\u001b[1;33m\u001b[0m\u001b[0m\n\u001b[0;32m     60\u001b[0m     \u001b[1;32mwith\u001b[0m \u001b[0msessions\u001b[0m\u001b[1;33m.\u001b[0m\u001b[0mSession\u001b[0m\u001b[1;33m(\u001b[0m\u001b[1;33m)\u001b[0m \u001b[1;32mas\u001b[0m \u001b[0msession\u001b[0m\u001b[1;33m:\u001b[0m\u001b[1;33m\u001b[0m\u001b[1;33m\u001b[0m\u001b[0m\n\u001b[1;32m---> 61\u001b[1;33m         \u001b[1;32mreturn\u001b[0m \u001b[0msession\u001b[0m\u001b[1;33m.\u001b[0m\u001b[0mrequest\u001b[0m\u001b[1;33m(\u001b[0m\u001b[0mmethod\u001b[0m\u001b[1;33m=\u001b[0m\u001b[0mmethod\u001b[0m\u001b[1;33m,\u001b[0m \u001b[0murl\u001b[0m\u001b[1;33m=\u001b[0m\u001b[0murl\u001b[0m\u001b[1;33m,\u001b[0m \u001b[1;33m**\u001b[0m\u001b[0mkwargs\u001b[0m\u001b[1;33m)\u001b[0m\u001b[1;33m\u001b[0m\u001b[1;33m\u001b[0m\u001b[0m\n\u001b[0m\u001b[0;32m     62\u001b[0m \u001b[1;33m\u001b[0m\u001b[0m\n\u001b[0;32m     63\u001b[0m \u001b[1;33m\u001b[0m\u001b[0m\n",
      "\u001b[1;32m~\\.conda\\envs\\riot\\lib\\site-packages\\requests\\sessions.py\u001b[0m in \u001b[0;36mrequest\u001b[1;34m(self, method, url, params, data, headers, cookies, files, auth, timeout, allow_redirects, proxies, hooks, stream, verify, cert, json)\u001b[0m\n\u001b[0;32m    540\u001b[0m         }\n\u001b[0;32m    541\u001b[0m         \u001b[0msend_kwargs\u001b[0m\u001b[1;33m.\u001b[0m\u001b[0mupdate\u001b[0m\u001b[1;33m(\u001b[0m\u001b[0msettings\u001b[0m\u001b[1;33m)\u001b[0m\u001b[1;33m\u001b[0m\u001b[1;33m\u001b[0m\u001b[0m\n\u001b[1;32m--> 542\u001b[1;33m         \u001b[0mresp\u001b[0m \u001b[1;33m=\u001b[0m \u001b[0mself\u001b[0m\u001b[1;33m.\u001b[0m\u001b[0msend\u001b[0m\u001b[1;33m(\u001b[0m\u001b[0mprep\u001b[0m\u001b[1;33m,\u001b[0m \u001b[1;33m**\u001b[0m\u001b[0msend_kwargs\u001b[0m\u001b[1;33m)\u001b[0m\u001b[1;33m\u001b[0m\u001b[1;33m\u001b[0m\u001b[0m\n\u001b[0m\u001b[0;32m    543\u001b[0m \u001b[1;33m\u001b[0m\u001b[0m\n\u001b[0;32m    544\u001b[0m         \u001b[1;32mreturn\u001b[0m \u001b[0mresp\u001b[0m\u001b[1;33m\u001b[0m\u001b[1;33m\u001b[0m\u001b[0m\n",
      "\u001b[1;32m~\\.conda\\envs\\riot\\lib\\site-packages\\requests\\sessions.py\u001b[0m in \u001b[0;36msend\u001b[1;34m(self, request, **kwargs)\u001b[0m\n\u001b[0;32m    653\u001b[0m \u001b[1;33m\u001b[0m\u001b[0m\n\u001b[0;32m    654\u001b[0m         \u001b[1;31m# Send the request\u001b[0m\u001b[1;33m\u001b[0m\u001b[1;33m\u001b[0m\u001b[1;33m\u001b[0m\u001b[0m\n\u001b[1;32m--> 655\u001b[1;33m         \u001b[0mr\u001b[0m \u001b[1;33m=\u001b[0m \u001b[0madapter\u001b[0m\u001b[1;33m.\u001b[0m\u001b[0msend\u001b[0m\u001b[1;33m(\u001b[0m\u001b[0mrequest\u001b[0m\u001b[1;33m,\u001b[0m \u001b[1;33m**\u001b[0m\u001b[0mkwargs\u001b[0m\u001b[1;33m)\u001b[0m\u001b[1;33m\u001b[0m\u001b[1;33m\u001b[0m\u001b[0m\n\u001b[0m\u001b[0;32m    656\u001b[0m \u001b[1;33m\u001b[0m\u001b[0m\n\u001b[0;32m    657\u001b[0m         \u001b[1;31m# Total elapsed time of the request (approximately)\u001b[0m\u001b[1;33m\u001b[0m\u001b[1;33m\u001b[0m\u001b[1;33m\u001b[0m\u001b[0m\n",
      "\u001b[1;32m~\\.conda\\envs\\riot\\lib\\site-packages\\requests\\adapters.py\u001b[0m in \u001b[0;36msend\u001b[1;34m(self, request, stream, timeout, verify, cert, proxies)\u001b[0m\n\u001b[0;32m    437\u001b[0m         \u001b[1;32mtry\u001b[0m\u001b[1;33m:\u001b[0m\u001b[1;33m\u001b[0m\u001b[1;33m\u001b[0m\u001b[0m\n\u001b[0;32m    438\u001b[0m             \u001b[1;32mif\u001b[0m \u001b[1;32mnot\u001b[0m \u001b[0mchunked\u001b[0m\u001b[1;33m:\u001b[0m\u001b[1;33m\u001b[0m\u001b[1;33m\u001b[0m\u001b[0m\n\u001b[1;32m--> 439\u001b[1;33m                 resp = conn.urlopen(\n\u001b[0m\u001b[0;32m    440\u001b[0m                     \u001b[0mmethod\u001b[0m\u001b[1;33m=\u001b[0m\u001b[0mrequest\u001b[0m\u001b[1;33m.\u001b[0m\u001b[0mmethod\u001b[0m\u001b[1;33m,\u001b[0m\u001b[1;33m\u001b[0m\u001b[1;33m\u001b[0m\u001b[0m\n\u001b[0;32m    441\u001b[0m                     \u001b[0murl\u001b[0m\u001b[1;33m=\u001b[0m\u001b[0murl\u001b[0m\u001b[1;33m,\u001b[0m\u001b[1;33m\u001b[0m\u001b[1;33m\u001b[0m\u001b[0m\n",
      "\u001b[1;32m~\\.conda\\envs\\riot\\lib\\site-packages\\urllib3\\connectionpool.py\u001b[0m in \u001b[0;36murlopen\u001b[1;34m(self, method, url, body, headers, retries, redirect, assert_same_host, timeout, pool_timeout, release_conn, chunked, body_pos, **response_kw)\u001b[0m\n\u001b[0;32m    697\u001b[0m \u001b[1;33m\u001b[0m\u001b[0m\n\u001b[0;32m    698\u001b[0m             \u001b[1;31m# Make the request on the httplib connection object.\u001b[0m\u001b[1;33m\u001b[0m\u001b[1;33m\u001b[0m\u001b[1;33m\u001b[0m\u001b[0m\n\u001b[1;32m--> 699\u001b[1;33m             httplib_response = self._make_request(\n\u001b[0m\u001b[0;32m    700\u001b[0m                 \u001b[0mconn\u001b[0m\u001b[1;33m,\u001b[0m\u001b[1;33m\u001b[0m\u001b[1;33m\u001b[0m\u001b[0m\n\u001b[0;32m    701\u001b[0m                 \u001b[0mmethod\u001b[0m\u001b[1;33m,\u001b[0m\u001b[1;33m\u001b[0m\u001b[1;33m\u001b[0m\u001b[0m\n",
      "\u001b[1;32m~\\.conda\\envs\\riot\\lib\\site-packages\\urllib3\\connectionpool.py\u001b[0m in \u001b[0;36m_make_request\u001b[1;34m(self, conn, method, url, timeout, chunked, **httplib_request_kw)\u001b[0m\n\u001b[0;32m    443\u001b[0m                     \u001b[1;31m# Python 3 (including for exceptions like SystemExit).\u001b[0m\u001b[1;33m\u001b[0m\u001b[1;33m\u001b[0m\u001b[1;33m\u001b[0m\u001b[0m\n\u001b[0;32m    444\u001b[0m                     \u001b[1;31m# Otherwise it looks like a bug in the code.\u001b[0m\u001b[1;33m\u001b[0m\u001b[1;33m\u001b[0m\u001b[1;33m\u001b[0m\u001b[0m\n\u001b[1;32m--> 445\u001b[1;33m                     \u001b[0msix\u001b[0m\u001b[1;33m.\u001b[0m\u001b[0mraise_from\u001b[0m\u001b[1;33m(\u001b[0m\u001b[0me\u001b[0m\u001b[1;33m,\u001b[0m \u001b[1;32mNone\u001b[0m\u001b[1;33m)\u001b[0m\u001b[1;33m\u001b[0m\u001b[1;33m\u001b[0m\u001b[0m\n\u001b[0m\u001b[0;32m    446\u001b[0m         \u001b[1;32mexcept\u001b[0m \u001b[1;33m(\u001b[0m\u001b[0mSocketTimeout\u001b[0m\u001b[1;33m,\u001b[0m \u001b[0mBaseSSLError\u001b[0m\u001b[1;33m,\u001b[0m \u001b[0mSocketError\u001b[0m\u001b[1;33m)\u001b[0m \u001b[1;32mas\u001b[0m \u001b[0me\u001b[0m\u001b[1;33m:\u001b[0m\u001b[1;33m\u001b[0m\u001b[1;33m\u001b[0m\u001b[0m\n\u001b[0;32m    447\u001b[0m             \u001b[0mself\u001b[0m\u001b[1;33m.\u001b[0m\u001b[0m_raise_timeout\u001b[0m\u001b[1;33m(\u001b[0m\u001b[0merr\u001b[0m\u001b[1;33m=\u001b[0m\u001b[0me\u001b[0m\u001b[1;33m,\u001b[0m \u001b[0murl\u001b[0m\u001b[1;33m=\u001b[0m\u001b[0murl\u001b[0m\u001b[1;33m,\u001b[0m \u001b[0mtimeout_value\u001b[0m\u001b[1;33m=\u001b[0m\u001b[0mread_timeout\u001b[0m\u001b[1;33m)\u001b[0m\u001b[1;33m\u001b[0m\u001b[1;33m\u001b[0m\u001b[0m\n",
      "\u001b[1;32m~\\.conda\\envs\\riot\\lib\\site-packages\\urllib3\\packages\\six.py\u001b[0m in \u001b[0;36mraise_from\u001b[1;34m(value, from_value)\u001b[0m\n",
      "\u001b[1;32m~\\.conda\\envs\\riot\\lib\\site-packages\\urllib3\\connectionpool.py\u001b[0m in \u001b[0;36m_make_request\u001b[1;34m(self, conn, method, url, timeout, chunked, **httplib_request_kw)\u001b[0m\n\u001b[0;32m    438\u001b[0m                 \u001b[1;31m# Python 3\u001b[0m\u001b[1;33m\u001b[0m\u001b[1;33m\u001b[0m\u001b[1;33m\u001b[0m\u001b[0m\n\u001b[0;32m    439\u001b[0m                 \u001b[1;32mtry\u001b[0m\u001b[1;33m:\u001b[0m\u001b[1;33m\u001b[0m\u001b[1;33m\u001b[0m\u001b[0m\n\u001b[1;32m--> 440\u001b[1;33m                     \u001b[0mhttplib_response\u001b[0m \u001b[1;33m=\u001b[0m \u001b[0mconn\u001b[0m\u001b[1;33m.\u001b[0m\u001b[0mgetresponse\u001b[0m\u001b[1;33m(\u001b[0m\u001b[1;33m)\u001b[0m\u001b[1;33m\u001b[0m\u001b[1;33m\u001b[0m\u001b[0m\n\u001b[0m\u001b[0;32m    441\u001b[0m                 \u001b[1;32mexcept\u001b[0m \u001b[0mBaseException\u001b[0m \u001b[1;32mas\u001b[0m \u001b[0me\u001b[0m\u001b[1;33m:\u001b[0m\u001b[1;33m\u001b[0m\u001b[1;33m\u001b[0m\u001b[0m\n\u001b[0;32m    442\u001b[0m                     \u001b[1;31m# Remove the TypeError from the exception chain in\u001b[0m\u001b[1;33m\u001b[0m\u001b[1;33m\u001b[0m\u001b[1;33m\u001b[0m\u001b[0m\n",
      "\u001b[1;32m~\\.conda\\envs\\riot\\lib\\http\\client.py\u001b[0m in \u001b[0;36mgetresponse\u001b[1;34m(self)\u001b[0m\n\u001b[0;32m   1342\u001b[0m         \u001b[1;32mtry\u001b[0m\u001b[1;33m:\u001b[0m\u001b[1;33m\u001b[0m\u001b[1;33m\u001b[0m\u001b[0m\n\u001b[0;32m   1343\u001b[0m             \u001b[1;32mtry\u001b[0m\u001b[1;33m:\u001b[0m\u001b[1;33m\u001b[0m\u001b[1;33m\u001b[0m\u001b[0m\n\u001b[1;32m-> 1344\u001b[1;33m                 \u001b[0mresponse\u001b[0m\u001b[1;33m.\u001b[0m\u001b[0mbegin\u001b[0m\u001b[1;33m(\u001b[0m\u001b[1;33m)\u001b[0m\u001b[1;33m\u001b[0m\u001b[1;33m\u001b[0m\u001b[0m\n\u001b[0m\u001b[0;32m   1345\u001b[0m             \u001b[1;32mexcept\u001b[0m \u001b[0mConnectionError\u001b[0m\u001b[1;33m:\u001b[0m\u001b[1;33m\u001b[0m\u001b[1;33m\u001b[0m\u001b[0m\n\u001b[0;32m   1346\u001b[0m                 \u001b[0mself\u001b[0m\u001b[1;33m.\u001b[0m\u001b[0mclose\u001b[0m\u001b[1;33m(\u001b[0m\u001b[1;33m)\u001b[0m\u001b[1;33m\u001b[0m\u001b[1;33m\u001b[0m\u001b[0m\n",
      "\u001b[1;32m~\\.conda\\envs\\riot\\lib\\http\\client.py\u001b[0m in \u001b[0;36mbegin\u001b[1;34m(self)\u001b[0m\n\u001b[0;32m    305\u001b[0m         \u001b[1;31m# read until we get a non-100 response\u001b[0m\u001b[1;33m\u001b[0m\u001b[1;33m\u001b[0m\u001b[1;33m\u001b[0m\u001b[0m\n\u001b[0;32m    306\u001b[0m         \u001b[1;32mwhile\u001b[0m \u001b[1;32mTrue\u001b[0m\u001b[1;33m:\u001b[0m\u001b[1;33m\u001b[0m\u001b[1;33m\u001b[0m\u001b[0m\n\u001b[1;32m--> 307\u001b[1;33m             \u001b[0mversion\u001b[0m\u001b[1;33m,\u001b[0m \u001b[0mstatus\u001b[0m\u001b[1;33m,\u001b[0m \u001b[0mreason\u001b[0m \u001b[1;33m=\u001b[0m \u001b[0mself\u001b[0m\u001b[1;33m.\u001b[0m\u001b[0m_read_status\u001b[0m\u001b[1;33m(\u001b[0m\u001b[1;33m)\u001b[0m\u001b[1;33m\u001b[0m\u001b[1;33m\u001b[0m\u001b[0m\n\u001b[0m\u001b[0;32m    308\u001b[0m             \u001b[1;32mif\u001b[0m \u001b[0mstatus\u001b[0m \u001b[1;33m!=\u001b[0m \u001b[0mCONTINUE\u001b[0m\u001b[1;33m:\u001b[0m\u001b[1;33m\u001b[0m\u001b[1;33m\u001b[0m\u001b[0m\n\u001b[0;32m    309\u001b[0m                 \u001b[1;32mbreak\u001b[0m\u001b[1;33m\u001b[0m\u001b[1;33m\u001b[0m\u001b[0m\n",
      "\u001b[1;32m~\\.conda\\envs\\riot\\lib\\http\\client.py\u001b[0m in \u001b[0;36m_read_status\u001b[1;34m(self)\u001b[0m\n\u001b[0;32m    266\u001b[0m \u001b[1;33m\u001b[0m\u001b[0m\n\u001b[0;32m    267\u001b[0m     \u001b[1;32mdef\u001b[0m \u001b[0m_read_status\u001b[0m\u001b[1;33m(\u001b[0m\u001b[0mself\u001b[0m\u001b[1;33m)\u001b[0m\u001b[1;33m:\u001b[0m\u001b[1;33m\u001b[0m\u001b[1;33m\u001b[0m\u001b[0m\n\u001b[1;32m--> 268\u001b[1;33m         \u001b[0mline\u001b[0m \u001b[1;33m=\u001b[0m \u001b[0mstr\u001b[0m\u001b[1;33m(\u001b[0m\u001b[0mself\u001b[0m\u001b[1;33m.\u001b[0m\u001b[0mfp\u001b[0m\u001b[1;33m.\u001b[0m\u001b[0mreadline\u001b[0m\u001b[1;33m(\u001b[0m\u001b[0m_MAXLINE\u001b[0m \u001b[1;33m+\u001b[0m \u001b[1;36m1\u001b[0m\u001b[1;33m)\u001b[0m\u001b[1;33m,\u001b[0m \u001b[1;34m\"iso-8859-1\"\u001b[0m\u001b[1;33m)\u001b[0m\u001b[1;33m\u001b[0m\u001b[1;33m\u001b[0m\u001b[0m\n\u001b[0m\u001b[0;32m    269\u001b[0m         \u001b[1;32mif\u001b[0m \u001b[0mlen\u001b[0m\u001b[1;33m(\u001b[0m\u001b[0mline\u001b[0m\u001b[1;33m)\u001b[0m \u001b[1;33m>\u001b[0m \u001b[0m_MAXLINE\u001b[0m\u001b[1;33m:\u001b[0m\u001b[1;33m\u001b[0m\u001b[1;33m\u001b[0m\u001b[0m\n\u001b[0;32m    270\u001b[0m             \u001b[1;32mraise\u001b[0m \u001b[0mLineTooLong\u001b[0m\u001b[1;33m(\u001b[0m\u001b[1;34m\"status line\"\u001b[0m\u001b[1;33m)\u001b[0m\u001b[1;33m\u001b[0m\u001b[1;33m\u001b[0m\u001b[0m\n",
      "\u001b[1;32m~\\.conda\\envs\\riot\\lib\\socket.py\u001b[0m in \u001b[0;36mreadinto\u001b[1;34m(self, b)\u001b[0m\n\u001b[0;32m    667\u001b[0m         \u001b[1;32mwhile\u001b[0m \u001b[1;32mTrue\u001b[0m\u001b[1;33m:\u001b[0m\u001b[1;33m\u001b[0m\u001b[1;33m\u001b[0m\u001b[0m\n\u001b[0;32m    668\u001b[0m             \u001b[1;32mtry\u001b[0m\u001b[1;33m:\u001b[0m\u001b[1;33m\u001b[0m\u001b[1;33m\u001b[0m\u001b[0m\n\u001b[1;32m--> 669\u001b[1;33m                 \u001b[1;32mreturn\u001b[0m \u001b[0mself\u001b[0m\u001b[1;33m.\u001b[0m\u001b[0m_sock\u001b[0m\u001b[1;33m.\u001b[0m\u001b[0mrecv_into\u001b[0m\u001b[1;33m(\u001b[0m\u001b[0mb\u001b[0m\u001b[1;33m)\u001b[0m\u001b[1;33m\u001b[0m\u001b[1;33m\u001b[0m\u001b[0m\n\u001b[0m\u001b[0;32m    670\u001b[0m             \u001b[1;32mexcept\u001b[0m \u001b[0mtimeout\u001b[0m\u001b[1;33m:\u001b[0m\u001b[1;33m\u001b[0m\u001b[1;33m\u001b[0m\u001b[0m\n\u001b[0;32m    671\u001b[0m                 \u001b[0mself\u001b[0m\u001b[1;33m.\u001b[0m\u001b[0m_timeout_occurred\u001b[0m \u001b[1;33m=\u001b[0m \u001b[1;32mTrue\u001b[0m\u001b[1;33m\u001b[0m\u001b[1;33m\u001b[0m\u001b[0m\n",
      "\u001b[1;32m~\\.conda\\envs\\riot\\lib\\ssl.py\u001b[0m in \u001b[0;36mrecv_into\u001b[1;34m(self, buffer, nbytes, flags)\u001b[0m\n\u001b[0;32m   1239\u001b[0m                   \u001b[1;34m\"non-zero flags not allowed in calls to recv_into() on %s\"\u001b[0m \u001b[1;33m%\u001b[0m\u001b[1;33m\u001b[0m\u001b[1;33m\u001b[0m\u001b[0m\n\u001b[0;32m   1240\u001b[0m                   self.__class__)\n\u001b[1;32m-> 1241\u001b[1;33m             \u001b[1;32mreturn\u001b[0m \u001b[0mself\u001b[0m\u001b[1;33m.\u001b[0m\u001b[0mread\u001b[0m\u001b[1;33m(\u001b[0m\u001b[0mnbytes\u001b[0m\u001b[1;33m,\u001b[0m \u001b[0mbuffer\u001b[0m\u001b[1;33m)\u001b[0m\u001b[1;33m\u001b[0m\u001b[1;33m\u001b[0m\u001b[0m\n\u001b[0m\u001b[0;32m   1242\u001b[0m         \u001b[1;32melse\u001b[0m\u001b[1;33m:\u001b[0m\u001b[1;33m\u001b[0m\u001b[1;33m\u001b[0m\u001b[0m\n\u001b[0;32m   1243\u001b[0m             \u001b[1;32mreturn\u001b[0m \u001b[0msuper\u001b[0m\u001b[1;33m(\u001b[0m\u001b[1;33m)\u001b[0m\u001b[1;33m.\u001b[0m\u001b[0mrecv_into\u001b[0m\u001b[1;33m(\u001b[0m\u001b[0mbuffer\u001b[0m\u001b[1;33m,\u001b[0m \u001b[0mnbytes\u001b[0m\u001b[1;33m,\u001b[0m \u001b[0mflags\u001b[0m\u001b[1;33m)\u001b[0m\u001b[1;33m\u001b[0m\u001b[1;33m\u001b[0m\u001b[0m\n",
      "\u001b[1;32m~\\.conda\\envs\\riot\\lib\\ssl.py\u001b[0m in \u001b[0;36mread\u001b[1;34m(self, len, buffer)\u001b[0m\n\u001b[0;32m   1097\u001b[0m         \u001b[1;32mtry\u001b[0m\u001b[1;33m:\u001b[0m\u001b[1;33m\u001b[0m\u001b[1;33m\u001b[0m\u001b[0m\n\u001b[0;32m   1098\u001b[0m             \u001b[1;32mif\u001b[0m \u001b[0mbuffer\u001b[0m \u001b[1;32mis\u001b[0m \u001b[1;32mnot\u001b[0m \u001b[1;32mNone\u001b[0m\u001b[1;33m:\u001b[0m\u001b[1;33m\u001b[0m\u001b[1;33m\u001b[0m\u001b[0m\n\u001b[1;32m-> 1099\u001b[1;33m                 \u001b[1;32mreturn\u001b[0m \u001b[0mself\u001b[0m\u001b[1;33m.\u001b[0m\u001b[0m_sslobj\u001b[0m\u001b[1;33m.\u001b[0m\u001b[0mread\u001b[0m\u001b[1;33m(\u001b[0m\u001b[0mlen\u001b[0m\u001b[1;33m,\u001b[0m \u001b[0mbuffer\u001b[0m\u001b[1;33m)\u001b[0m\u001b[1;33m\u001b[0m\u001b[1;33m\u001b[0m\u001b[0m\n\u001b[0m\u001b[0;32m   1100\u001b[0m             \u001b[1;32melse\u001b[0m\u001b[1;33m:\u001b[0m\u001b[1;33m\u001b[0m\u001b[1;33m\u001b[0m\u001b[0m\n\u001b[0;32m   1101\u001b[0m                 \u001b[1;32mreturn\u001b[0m \u001b[0mself\u001b[0m\u001b[1;33m.\u001b[0m\u001b[0m_sslobj\u001b[0m\u001b[1;33m.\u001b[0m\u001b[0mread\u001b[0m\u001b[1;33m(\u001b[0m\u001b[0mlen\u001b[0m\u001b[1;33m)\u001b[0m\u001b[1;33m\u001b[0m\u001b[1;33m\u001b[0m\u001b[0m\n",
      "\u001b[1;31mKeyboardInterrupt\u001b[0m: "
     ]
    }
   ],
   "source": [
    "dataset = []\n",
    "with tqdm(total = len(matches)) as pbar:\n",
    "    for match in matches:\n",
    "        match_data = requests.get(\"https://asia.api.riotgames.com/lol/match/v5/matches/\"+match+\"?api_key=\"+api_key).json()\n",
    "        try:\n",
    "            if match_data[\"info\"][\"gameVersion\"][:5] == current_patch[:5]:\n",
    "                champs = []\n",
    "                for player in range(10):\n",
    "                    champs.append(match_data[\"info\"][\"participants\"][player][\"championId\"])\n",
    "                champs.append(int(match_data[\"info\"][\"participants\"][0][\"win\"]))\n",
    "                dataset.append(champs)\n",
    "                #sleep(1.2)\n",
    "                time.sleep(-time.time()%1.21)\n",
    "                pbar.update(1)\n",
    "            else:\n",
    "                time.sleep(-time.time()%1.21)\n",
    "                pbar.update(1)\n",
    "        except:\n",
    "            time.sleep(-time.time()%1.21)\n",
    "            pbar.update(1)\n",
    "            \n",
    "np.savetxt(\"data/grandmaster_kr_data.csv\", dataset, delimiter=\", \")"
   ]
  },
  {
   "cell_type": "markdown",
   "id": "ff9e6d6b-58ed-4927-b592-c3cccbcce53b",
   "metadata": {},
   "source": [
    "# masters in eu"
   ]
  },
  {
   "cell_type": "code",
   "execution_count": null,
   "id": "5041c8c3-f648-4b79-8b57-9b657f0f8d40",
   "metadata": {},
   "outputs": [],
   "source": [
    "masters = requests.get(\"https://euw1.api.riotgames.com/lol/league/v4/masterleagues/by-queue/RANKED_SOLO_5x5?api_key=\"+api_key)\n",
    "masters = masters.json()\n",
    "all_matches = []\n",
    "\n",
    "with tqdm(total = len(masters[\"entries\"])) as pbar:\n",
    "    for master in masters[\"entries\"]:\n",
    "        #ic(challenger)\n",
    "        account = requests.get(\"https://euw1.api.riotgames.com/lol/summoner/v4/summoners/by-name/\"+master[\"summonerName\"]+\"?api_key=\"+api_key).json()\n",
    "        #ic(account)\n",
    "        #ranked summoners rift id = 420\n",
    "        try:\n",
    "            matches = requests.get(\"https://europe.api.riotgames.com/lol/match/v5/matches/by-puuid/\"+master[\"puuid\"]+\"/ids?queue=420&start=0&count=\"+number_matches+\"&api_key=\"+api_key).json()\n",
    "        except:\n",
    "            pass\n",
    "        all_matches.append(matches)\n",
    "        time.sleep(-time.time()%2.41)\n",
    "        pbar.update(1)\n",
    "        \n",
    "#unnesting the list and removing duplicates:\n",
    "\n",
    "all_matches = list(chain.from_iterable(all_matches))\n",
    "final_matches = set(all_matches)\n",
    "len(final_matches)\n",
    "with open('data/master_eu_matches.csv', 'w') as f:\n",
    "    write = csv.writer(f) \n",
    "    write.writerow(final_matches)"
   ]
  },
  {
   "cell_type": "code",
   "execution_count": null,
   "id": "0bf7483b-f264-4ef0-8506-df833f995f50",
   "metadata": {},
   "outputs": [],
   "source": [
    "read_matches = []\n",
    "with open('data/master_eu_matches.csv', 'r') as f:\n",
    "    csv_reader = csv.reader(f, delimiter=',')\n",
    "    for row in csv_reader:\n",
    "        read_matches.append(row)\n",
    "matches = read_matches[0]\n",
    "len(matches)"
   ]
  },
  {
   "cell_type": "code",
   "execution_count": null,
   "id": "ae8e2685-30ec-47d9-b495-e60f13e5278e",
   "metadata": {},
   "outputs": [],
   "source": [
    "dataset = []\n",
    "with tqdm(total = len(matches)) as pbar:\n",
    "    for match in matches:\n",
    "        try:\n",
    "            match_data = requests.get(\"https://europe.api.riotgames.com/lol/match/v5/matches/\"+match+\"?api_key=\"+api_key).json()\n",
    "            if match_data[\"info\"][\"gameVersion\"][:5] == current_patch[:5]:\n",
    "                champs = []\n",
    "                for player in range(10):\n",
    "                    champs.append(match_data[\"info\"][\"participants\"][player][\"championId\"])\n",
    "                champs.append(int(match_data[\"info\"][\"participants\"][0][\"win\"]))\n",
    "                dataset.append(champs)\n",
    "                #sleep(1.2)\n",
    "                time.sleep(-time.time()%1.21)\n",
    "                pbar.update(1)\n",
    "            else:\n",
    "                time.sleep(-time.time()%1.21)\n",
    "                pbar.update(1)\n",
    "        except:\n",
    "            time.sleep(-time.time()%1.21)\n",
    "            pbar.update(1)\n",
    "            \n",
    "np.savetxt(\"data/master_eu_data.csv\", dataset, delimiter=\", \")"
   ]
  },
  {
   "cell_type": "markdown",
   "id": "cc12169b-bfc3-4f74-98b7-c5383251fa60",
   "metadata": {},
   "source": [
    "# master KR"
   ]
  },
  {
   "cell_type": "code",
   "execution_count": null,
   "id": "1923f1a8-a961-4998-8f5d-2004537a6278",
   "metadata": {},
   "outputs": [],
   "source": [
    "masters = requests.get(\"https://kr.api.riotgames.com/lol/league/v4/masterleagues/by-queue/RANKED_SOLO_5x5?api_key=\"+api_key)\n",
    "masters = masters.json()\n",
    "all_matches = []\n",
    "\n",
    "with tqdm(total = len(masters[\"entries\"])) as pbar:\n",
    "    for master in masters[\"entries\"]:\n",
    "        #ic(challenger)\n",
    "        account = requests.get(\"https://kr.api.riotgames.com/lol/summoner/v4/summoners/by-name/\"+master[\"summonerName\"]+\"?api_key=\"+api_key).json()\n",
    "        #ic(account)\n",
    "        #ranked summoners rift id = 420\n",
    "        try:\n",
    "            matches = requests.get(\"https://asia.api.riotgames.com/lol/match/v5/matches/by-puuid/\"+master[\"puuid\"]+\"/ids?queue=420&start=0&count=\"+number_matches+\"&api_key=\"+api_key).json()\n",
    "        except:\n",
    "            pass\n",
    "        all_matches.append(matches)\n",
    "        time.sleep(-time.time()%2.41)\n",
    "        pbar.update(1)\n",
    "        \n",
    "#unnesting the list and removing duplicates:\n",
    "\n",
    "all_matches = list(chain.from_iterable(all_matches))\n",
    "final_matches = set(all_matches)\n",
    "len(final_matches)\n",
    "with open('data/master_kr_matches.csv', 'w') as f:\n",
    "    write = csv.writer(f) \n",
    "    write.writerow(final_matches)"
   ]
  },
  {
   "cell_type": "code",
   "execution_count": null,
   "id": "f61288eb-4d55-491d-8061-500a81e1150d",
   "metadata": {},
   "outputs": [],
   "source": [
    "read_matches = []\n",
    "with open('data/master_kr_matches.csv', 'r') as f:\n",
    "    csv_reader = csv.reader(f, delimiter=',')\n",
    "    for row in csv_reader:\n",
    "        read_matches.append(row)\n",
    "matches = read_matches[0]\n",
    "len(matches)"
   ]
  },
  {
   "cell_type": "code",
   "execution_count": null,
   "id": "27eb48c8-4ce4-4233-a880-821738f4df63",
   "metadata": {},
   "outputs": [],
   "source": [
    "dataset = []\n",
    "with tqdm(total = len(matches)) as pbar:\n",
    "    for match in matches:\n",
    "        try:\n",
    "            match_data = requests.get(\"https://asia.api.riotgames.com/lol/match/v5/matches/\"+match+\"?api_key=\"+api_key).json()\n",
    "            if match_data[\"info\"][\"gameVersion\"][:5] == current_patch[:5]:\n",
    "                champs = []\n",
    "                for player in range(10):\n",
    "                    champs.append(match_data[\"info\"][\"participants\"][player][\"championId\"])\n",
    "                champs.append(int(match_data[\"info\"][\"participants\"][0][\"win\"]))\n",
    "                dataset.append(champs)\n",
    "                #sleep(1.2)\n",
    "                time.sleep(-time.time()%1.21)\n",
    "                pbar.update(1)\n",
    "            else:\n",
    "                time.sleep(-time.time()%1.21)\n",
    "                pbar.update(1)\n",
    "        except:\n",
    "            time.sleep(-time.time()%1.21)\n",
    "            pbar.update(1)\n",
    "            \n",
    "np.savetxt(\"data/master_eu_data.csv\", dataset, delimiter=\", \")"
   ]
  },
  {
   "cell_type": "markdown",
   "id": "dace88ac-bc21-4fdd-8a41-0e5da994284c",
   "metadata": {},
   "source": [
    "# displaying the amount of matches:"
   ]
  },
  {
   "cell_type": "code",
   "execution_count": 2,
   "id": "be143df8-9506-4e54-a0f8-1f06d69b12db",
   "metadata": {},
   "outputs": [],
   "source": [
    "call_eu = pd.read_csv('data/challenger_eu_data.csv',header = None)\n",
    "call_kr = pd.read_csv('data/challenger_kr_data.csv',header = None)\n",
    "gm_eu = pd.read_csv('data/grandmaster_eu_data.csv',header = None)\n",
    "#gm_kr = pd.read_csv('data/grandmaster_kr_data.csv',header = None)\n",
    "#master_eu = pd.read_csv('data/master_eu_data.csv',header = None)\n",
    "#master_kr = pd.read_csv('data/master_kr_data.csv',header = None)"
   ]
  },
  {
   "cell_type": "code",
   "execution_count": 4,
   "id": "1fff8d23-c14b-4e66-a495-b2a66526d7cf",
   "metadata": {},
   "outputs": [
    {
     "data": {
      "text/html": [
       "<div>\n",
       "<style scoped>\n",
       "    .dataframe tbody tr th:only-of-type {\n",
       "        vertical-align: middle;\n",
       "    }\n",
       "\n",
       "    .dataframe tbody tr th {\n",
       "        vertical-align: top;\n",
       "    }\n",
       "\n",
       "    .dataframe thead th {\n",
       "        text-align: right;\n",
       "    }\n",
       "</style>\n",
       "<table border=\"1\" class=\"dataframe\">\n",
       "  <thead>\n",
       "    <tr style=\"text-align: right;\">\n",
       "      <th></th>\n",
       "      <th>0</th>\n",
       "      <th>1</th>\n",
       "      <th>2</th>\n",
       "      <th>3</th>\n",
       "      <th>4</th>\n",
       "      <th>5</th>\n",
       "      <th>6</th>\n",
       "      <th>7</th>\n",
       "      <th>8</th>\n",
       "      <th>9</th>\n",
       "      <th>10</th>\n",
       "    </tr>\n",
       "  </thead>\n",
       "  <tbody>\n",
       "    <tr>\n",
       "      <th>0</th>\n",
       "      <td>24.0</td>\n",
       "      <td>102.0</td>\n",
       "      <td>245.0</td>\n",
       "      <td>166.0</td>\n",
       "      <td>89.0</td>\n",
       "      <td>80.0</td>\n",
       "      <td>120.0</td>\n",
       "      <td>777.0</td>\n",
       "      <td>145.0</td>\n",
       "      <td>201.0</td>\n",
       "      <td>0.0</td>\n",
       "    </tr>\n",
       "    <tr>\n",
       "      <th>1</th>\n",
       "      <td>75.0</td>\n",
       "      <td>234.0</td>\n",
       "      <td>45.0</td>\n",
       "      <td>18.0</td>\n",
       "      <td>12.0</td>\n",
       "      <td>131.0</td>\n",
       "      <td>39.0</td>\n",
       "      <td>91.0</td>\n",
       "      <td>429.0</td>\n",
       "      <td>78.0</td>\n",
       "      <td>1.0</td>\n",
       "    </tr>\n",
       "    <tr>\n",
       "      <th>2</th>\n",
       "      <td>2.0</td>\n",
       "      <td>59.0</td>\n",
       "      <td>147.0</td>\n",
       "      <td>67.0</td>\n",
       "      <td>412.0</td>\n",
       "      <td>114.0</td>\n",
       "      <td>234.0</td>\n",
       "      <td>13.0</td>\n",
       "      <td>10.0</td>\n",
       "      <td>555.0</td>\n",
       "      <td>1.0</td>\n",
       "    </tr>\n",
       "    <tr>\n",
       "      <th>3</th>\n",
       "      <td>58.0</td>\n",
       "      <td>203.0</td>\n",
       "      <td>134.0</td>\n",
       "      <td>235.0</td>\n",
       "      <td>223.0</td>\n",
       "      <td>79.0</td>\n",
       "      <td>234.0</td>\n",
       "      <td>142.0</td>\n",
       "      <td>429.0</td>\n",
       "      <td>111.0</td>\n",
       "      <td>1.0</td>\n",
       "    </tr>\n",
       "    <tr>\n",
       "      <th>4</th>\n",
       "      <td>85.0</td>\n",
       "      <td>238.0</td>\n",
       "      <td>2.0</td>\n",
       "      <td>115.0</td>\n",
       "      <td>111.0</td>\n",
       "      <td>31.0</td>\n",
       "      <td>79.0</td>\n",
       "      <td>157.0</td>\n",
       "      <td>222.0</td>\n",
       "      <td>89.0</td>\n",
       "      <td>1.0</td>\n",
       "    </tr>\n",
       "    <tr>\n",
       "      <th>...</th>\n",
       "      <td>...</td>\n",
       "      <td>...</td>\n",
       "      <td>...</td>\n",
       "      <td>...</td>\n",
       "      <td>...</td>\n",
       "      <td>...</td>\n",
       "      <td>...</td>\n",
       "      <td>...</td>\n",
       "      <td>...</td>\n",
       "      <td>...</td>\n",
       "      <td>...</td>\n",
       "    </tr>\n",
       "    <tr>\n",
       "      <th>2252</th>\n",
       "      <td>58.0</td>\n",
       "      <td>131.0</td>\n",
       "      <td>202.0</td>\n",
       "      <td>234.0</td>\n",
       "      <td>101.0</td>\n",
       "      <td>39.0</td>\n",
       "      <td>64.0</td>\n",
       "      <td>7.0</td>\n",
       "      <td>67.0</td>\n",
       "      <td>412.0</td>\n",
       "      <td>1.0</td>\n",
       "    </tr>\n",
       "    <tr>\n",
       "      <th>2253</th>\n",
       "      <td>164.0</td>\n",
       "      <td>106.0</td>\n",
       "      <td>13.0</td>\n",
       "      <td>119.0</td>\n",
       "      <td>48.0</td>\n",
       "      <td>54.0</td>\n",
       "      <td>64.0</td>\n",
       "      <td>127.0</td>\n",
       "      <td>110.0</td>\n",
       "      <td>526.0</td>\n",
       "      <td>0.0</td>\n",
       "    </tr>\n",
       "    <tr>\n",
       "      <th>2254</th>\n",
       "      <td>23.0</td>\n",
       "      <td>106.0</td>\n",
       "      <td>134.0</td>\n",
       "      <td>360.0</td>\n",
       "      <td>12.0</td>\n",
       "      <td>92.0</td>\n",
       "      <td>76.0</td>\n",
       "      <td>166.0</td>\n",
       "      <td>523.0</td>\n",
       "      <td>25.0</td>\n",
       "      <td>0.0</td>\n",
       "    </tr>\n",
       "    <tr>\n",
       "      <th>2255</th>\n",
       "      <td>14.0</td>\n",
       "      <td>234.0</td>\n",
       "      <td>7.0</td>\n",
       "      <td>18.0</td>\n",
       "      <td>79.0</td>\n",
       "      <td>58.0</td>\n",
       "      <td>141.0</td>\n",
       "      <td>157.0</td>\n",
       "      <td>517.0</td>\n",
       "      <td>117.0</td>\n",
       "      <td>0.0</td>\n",
       "    </tr>\n",
       "    <tr>\n",
       "      <th>2256</th>\n",
       "      <td>79.0</td>\n",
       "      <td>238.0</td>\n",
       "      <td>56.0</td>\n",
       "      <td>202.0</td>\n",
       "      <td>432.0</td>\n",
       "      <td>117.0</td>\n",
       "      <td>28.0</td>\n",
       "      <td>58.0</td>\n",
       "      <td>360.0</td>\n",
       "      <td>555.0</td>\n",
       "      <td>1.0</td>\n",
       "    </tr>\n",
       "  </tbody>\n",
       "</table>\n",
       "<p>2257 rows × 11 columns</p>\n",
       "</div>"
      ],
      "text/plain": [
       "         0      1      2      3      4      5      6      7      8      9   \\\n",
       "0      24.0  102.0  245.0  166.0   89.0   80.0  120.0  777.0  145.0  201.0   \n",
       "1      75.0  234.0   45.0   18.0   12.0  131.0   39.0   91.0  429.0   78.0   \n",
       "2       2.0   59.0  147.0   67.0  412.0  114.0  234.0   13.0   10.0  555.0   \n",
       "3      58.0  203.0  134.0  235.0  223.0   79.0  234.0  142.0  429.0  111.0   \n",
       "4      85.0  238.0    2.0  115.0  111.0   31.0   79.0  157.0  222.0   89.0   \n",
       "...     ...    ...    ...    ...    ...    ...    ...    ...    ...    ...   \n",
       "2252   58.0  131.0  202.0  234.0  101.0   39.0   64.0    7.0   67.0  412.0   \n",
       "2253  164.0  106.0   13.0  119.0   48.0   54.0   64.0  127.0  110.0  526.0   \n",
       "2254   23.0  106.0  134.0  360.0   12.0   92.0   76.0  166.0  523.0   25.0   \n",
       "2255   14.0  234.0    7.0   18.0   79.0   58.0  141.0  157.0  517.0  117.0   \n",
       "2256   79.0  238.0   56.0  202.0  432.0  117.0   28.0   58.0  360.0  555.0   \n",
       "\n",
       "       10  \n",
       "0     0.0  \n",
       "1     1.0  \n",
       "2     1.0  \n",
       "3     1.0  \n",
       "4     1.0  \n",
       "...   ...  \n",
       "2252  1.0  \n",
       "2253  0.0  \n",
       "2254  0.0  \n",
       "2255  0.0  \n",
       "2256  1.0  \n",
       "\n",
       "[2257 rows x 11 columns]"
      ]
     },
     "execution_count": 4,
     "metadata": {},
     "output_type": "execute_result"
    }
   ],
   "source": [
    "call_eu"
   ]
  },
  {
   "cell_type": "code",
   "execution_count": 3,
   "id": "688af52b-f99e-49fe-8871-15defe1617dc",
   "metadata": {},
   "outputs": [
    {
     "name": "stdout",
     "output_type": "stream",
     "text": [
      "EU challengers = 2257\n",
      "KR challengers = 2507\n",
      "EU gms = 432\n"
     ]
    },
    {
     "ename": "NameError",
     "evalue": "name 'gm_kr' is not defined",
     "output_type": "error",
     "traceback": [
      "\u001b[1;31m---------------------------------------------------------------------------\u001b[0m",
      "\u001b[1;31mNameError\u001b[0m                                 Traceback (most recent call last)",
      "\u001b[1;32m<ipython-input-3-8917d105cbc0>\u001b[0m in \u001b[0;36m<module>\u001b[1;34m\u001b[0m\n\u001b[0;32m      2\u001b[0m \u001b[0mprint\u001b[0m\u001b[1;33m(\u001b[0m\u001b[1;34mf\"KR challengers = {len(call_kr)}\"\u001b[0m\u001b[1;33m)\u001b[0m\u001b[1;33m\u001b[0m\u001b[1;33m\u001b[0m\u001b[0m\n\u001b[0;32m      3\u001b[0m \u001b[0mprint\u001b[0m\u001b[1;33m(\u001b[0m\u001b[1;34mf\"EU gms = {len(gm_eu)}\"\u001b[0m\u001b[1;33m)\u001b[0m\u001b[1;33m\u001b[0m\u001b[1;33m\u001b[0m\u001b[0m\n\u001b[1;32m----> 4\u001b[1;33m \u001b[0mprint\u001b[0m\u001b[1;33m(\u001b[0m\u001b[1;34mf\"KR gms = {len(gm_kr)}\"\u001b[0m\u001b[1;33m)\u001b[0m\u001b[1;33m\u001b[0m\u001b[1;33m\u001b[0m\u001b[0m\n\u001b[0m\u001b[0;32m      5\u001b[0m \u001b[0mprint\u001b[0m\u001b[1;33m(\u001b[0m\u001b[1;34mf\"EU masters = {len(master_eu)}\"\u001b[0m\u001b[1;33m)\u001b[0m\u001b[1;33m\u001b[0m\u001b[1;33m\u001b[0m\u001b[0m\n\u001b[0;32m      6\u001b[0m \u001b[0mprint\u001b[0m\u001b[1;33m(\u001b[0m\u001b[1;34mf\"KR masters = {len(master_kr)}\"\u001b[0m\u001b[1;33m)\u001b[0m\u001b[1;33m\u001b[0m\u001b[1;33m\u001b[0m\u001b[0m\n",
      "\u001b[1;31mNameError\u001b[0m: name 'gm_kr' is not defined"
     ]
    }
   ],
   "source": [
    "print(f\"EU challengers = {len(call_eu)}\")\n",
    "print(f\"KR challengers = {len(call_kr)}\")\n",
    "print(f\"EU gms = {len(gm_eu)}\")\n",
    "print(f\"KR gms = {len(gm_kr)}\")\n",
    "print(f\"EU masters = {len(master_eu)}\")\n",
    "print(f\"KR masters = {len(master_kr)}\")\n",
    "print(f\"all games = {len(call_eu)+len(call_kr)+len(gm_eu)+len(gm_kr)+len(master_eu)+len(master_kr)}\")"
   ]
  },
  {
   "cell_type": "markdown",
   "id": "0fb75de6-460f-495e-a259-9ba9db606e1c",
   "metadata": {},
   "source": [
    "# d1 if possible, i will not use d1 games"
   ]
  },
  {
   "cell_type": "raw",
   "id": "782fd055-1f5d-42fb-8dba-be09100b589d",
   "metadata": {},
   "source": [
    "d1 = requests.get(\"https://euw1.api.riotgames.com/lol/league/v4/entries/RANKED_SOLO_5x5/DIAMOND/I?page=49&api_key=\"+api_key)\n",
    "d1 = d1.json()"
   ]
  },
  {
   "cell_type": "raw",
   "id": "0f2ed6bd-90b3-4b50-85fc-c9ba7d835352",
   "metadata": {},
   "source": [
    "len(d1)"
   ]
  },
  {
   "cell_type": "raw",
   "id": "3a102775-8540-44a5-88fa-ce9626fd27bd",
   "metadata": {},
   "source": [
    "49*205"
   ]
  },
  {
   "cell_type": "code",
   "execution_count": null,
   "id": "efdc59b1-e6ec-4b4e-8c09-3b9b03820d2c",
   "metadata": {},
   "outputs": [],
   "source": []
  }
 ],
 "metadata": {
  "kernelspec": {
   "display_name": "Python 3 (ipykernel)",
   "language": "python",
   "name": "python3"
  },
  "language_info": {
   "codemirror_mode": {
    "name": "ipython",
    "version": 3
   },
   "file_extension": ".py",
   "mimetype": "text/x-python",
   "name": "python",
   "nbconvert_exporter": "python",
   "pygments_lexer": "ipython3",
   "version": "3.8.11"
  },
  "toc-autonumbering": false
 },
 "nbformat": 4,
 "nbformat_minor": 5
}
